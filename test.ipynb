{
 "cells": [
  {
   "cell_type": "code",
   "execution_count": 2,
   "metadata": {},
   "outputs": [],
   "source": [
    "import json\n",
    "import random\n",
    "import os\n",
    "\n",
    "class Boid:\n",
    "    def __init__(self, x, y):\n",
    "        self.position = [x, y]\n",
    "        self.velocity = [random.uniform(-1, 1), random.uniform(-1, 1)]\n",
    "\n",
    "    def update(self, width, height):\n",
    "        self.position[0] += self.velocity[0]\n",
    "        self.position[1] += self.velocity[1]\n",
    "\n",
    "        # Bound the boid position to the simulation area\n",
    "        self.position[0] = max(0, min(self.position[0], width))\n",
    "        self.position[1] = max(0, min(self.position[1], height))\n",
    "\n",
    "def generate_simulation_data(num_boids=20, num_steps=100, width=640, height=480):\n",
    "    boids = [Boid(random.uniform(0, width), random.uniform(0, height)) for _ in range(num_boids)]\n",
    "    data = []\n",
    "\n",
    "    for _ in range(num_steps):\n",
    "        step_data = {'step': [], 'positions': []}\n",
    "        for boid in boids:\n",
    "            boid.update(width, height)\n",
    "            step_data['positions'].append(boid.position.copy())\n",
    "        data.append(step_data)\n",
    "\n",
    "    return data\n",
    "\n",
    "def save_data_to_json(data, filename):\n",
    "    with open(filename, 'w') as f:\n",
    "        json.dump(data, f)\n",
    "\n",
    "# Create the myjson folder if it doesn't exist\n",
    "if not os.path.exists('myjson'):\n",
    "    os.makedirs('myjson')\n",
    "\n",
    "# Generate 10 JSON files\n",
    "for i in range(10):\n",
    "    data = generate_simulation_data()\n",
    "    save_data_to_json(data, f'myjson/my_{i}.json')\n"
   ]
  },
  {
   "cell_type": "code",
   "execution_count": null,
   "metadata": {},
   "outputs": [],
   "source": [
    "import pandas as pd\n",
    "import os\n",
    "import json\n",
    "\n",
    "def json_to_csv(json_folder, csv_file):\n",
    "    all_data = []\n",
    "\n",
    "    for json_file in os.listdir(json_folder):\n",
    "        if json_file.endswith('.json'):\n",
    "            with open(os.path.join(json_folder, json_file), 'r') as f:\n",
    "                data = json.load(f)\n",
    "                for step_data in data:\n",
    "                    step = step_data['step']\n",
    "                    positions = step_data['positions']\n",
    "                    for idx, position in enumerate(positions):\n",
    "                        all_data.append([step, idx, position[0], position[1]])\n",
    "\n",
    "    df = pd.DataFrame(all_data, columns=['step', 'boid_id', 'x', 'y'])\n",
    "    df.to_csv(csv_file, index=False)\n",
    "\n",
    "json_to_csv('myjson', 'simulation.csv')\n"
   ]
  },
  {
   "cell_type": "code",
   "execution_count": null,
   "metadata": {},
   "outputs": [],
   "source": [
    "df = pd.read_csv('simulation.csv')\n",
    "print(df.head())\n"
   ]
  },
  {
   "cell_type": "code",
   "execution_count": null,
   "metadata": {},
   "outputs": [],
   "source": [
    "import matplotlib.pyplot as plt\n",
    "\n",
    "def plot_bird_positions(df, step):\n",
    "    step_data = df[df['step'] == step]\n",
    "    plt.scatter(step_data['x'], step_data['y'])\n",
    "    plt.title(f'Bird Positions at Step {step}')\n",
    "    plt.xlabel('x')\n",
    "    plt.ylabel('y')\n",
    "    plt.show()\n",
    "\n",
    "# Plot bird positions at step 0\n",
    "plot_bird_positions(df, 0)\n"
   ]
  }
 ],
 "metadata": {
  "kernelspec": {
   "display_name": "aiml2",
   "language": "python",
   "name": "python3"
  },
  "language_info": {
   "codemirror_mode": {
    "name": "ipython",
    "version": 3
   },
   "file_extension": ".py",
   "mimetype": "text/x-python",
   "name": "python",
   "nbconvert_exporter": "python",
   "pygments_lexer": "ipython3",
   "version": "3.11.9"
  }
 },
 "nbformat": 4,
 "nbformat_minor": 2
}
