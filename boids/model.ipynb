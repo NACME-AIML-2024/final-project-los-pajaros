{
 "cells": [
  {
   "cell_type": "code",
   "execution_count": 1,
   "metadata": {},
   "outputs": [
    {
     "name": "stdout",
     "output_type": "stream",
     "text": [
      "pygame 2.6.0 (SDL 2.28.4, Python 3.11.9)\n",
      "Hello from the pygame community. https://www.pygame.org/contribute.html\n"
     ]
    }
   ],
   "source": [
    "import math\n",
    "import random\n",
    "import pygame\n",
    "import sys\n",
    "import numpy as np\n",
    "import json\n",
    "import os\n",
    "import pandas as pd\n",
    "import matplotlib.pyplot as plt\n",
    "import torch\n",
    "from torch.utils.data import Dataset\n",
    "from torch_geometric.data import Data, InMemoryDataset, download_url, TemporalData"
   ]
  },
  {
   "cell_type": "markdown",
   "metadata": {},
   "source": [
    "## Converting CSV To Input For Our Model"
   ]
  },
  {
   "cell_type": "markdown",
   "metadata": {},
   "source": [
    "### Grabbing Our CSV And Converting To DataFrame"
   ]
  },
  {
   "cell_type": "code",
   "execution_count": 2,
   "metadata": {},
   "outputs": [
    {
     "data": {
      "text/html": [
       "<div>\n",
       "<style scoped>\n",
       "    .dataframe tbody tr th:only-of-type {\n",
       "        vertical-align: middle;\n",
       "    }\n",
       "\n",
       "    .dataframe tbody tr th {\n",
       "        vertical-align: top;\n",
       "    }\n",
       "\n",
       "    .dataframe thead th {\n",
       "        text-align: right;\n",
       "    }\n",
       "</style>\n",
       "<table border=\"1\" class=\"dataframe\">\n",
       "  <thead>\n",
       "    <tr style=\"text-align: right;\">\n",
       "      <th></th>\n",
       "      <th>x</th>\n",
       "      <th>y</th>\n",
       "      <th>dx</th>\n",
       "      <th>dy</th>\n",
       "      <th>Boids</th>\n",
       "      <th>Simulation</th>\n",
       "      <th>Timestep</th>\n",
       "    </tr>\n",
       "  </thead>\n",
       "  <tbody>\n",
       "    <tr>\n",
       "      <th>0</th>\n",
       "      <td>192.032076</td>\n",
       "      <td>413.277323</td>\n",
       "      <td>-1.768924</td>\n",
       "      <td>-0.825558</td>\n",
       "      <td>0</td>\n",
       "      <td>0</td>\n",
       "      <td>0</td>\n",
       "    </tr>\n",
       "    <tr>\n",
       "      <th>1</th>\n",
       "      <td>266.236092</td>\n",
       "      <td>98.829753</td>\n",
       "      <td>1.131848</td>\n",
       "      <td>2.606990</td>\n",
       "      <td>1</td>\n",
       "      <td>0</td>\n",
       "      <td>0</td>\n",
       "    </tr>\n",
       "    <tr>\n",
       "      <th>2</th>\n",
       "      <td>62.612704</td>\n",
       "      <td>129.962456</td>\n",
       "      <td>-4.415965</td>\n",
       "      <td>-2.354997</td>\n",
       "      <td>2</td>\n",
       "      <td>0</td>\n",
       "      <td>0</td>\n",
       "    </tr>\n",
       "    <tr>\n",
       "      <th>3</th>\n",
       "      <td>536.605412</td>\n",
       "      <td>33.303273</td>\n",
       "      <td>-3.424230</td>\n",
       "      <td>4.601926</td>\n",
       "      <td>3</td>\n",
       "      <td>0</td>\n",
       "      <td>0</td>\n",
       "    </tr>\n",
       "    <tr>\n",
       "      <th>4</th>\n",
       "      <td>679.053022</td>\n",
       "      <td>882.292871</td>\n",
       "      <td>1.094493</td>\n",
       "      <td>0.031586</td>\n",
       "      <td>4</td>\n",
       "      <td>0</td>\n",
       "      <td>0</td>\n",
       "    </tr>\n",
       "  </tbody>\n",
       "</table>\n",
       "</div>"
      ],
      "text/plain": [
       "            x           y        dx        dy  Boids  Simulation  Timestep\n",
       "0  192.032076  413.277323 -1.768924 -0.825558      0           0         0\n",
       "1  266.236092   98.829753  1.131848  2.606990      1           0         0\n",
       "2   62.612704  129.962456 -4.415965 -2.354997      2           0         0\n",
       "3  536.605412   33.303273 -3.424230  4.601926      3           0         0\n",
       "4  679.053022  882.292871  1.094493  0.031586      4           0         0"
      ]
     },
     "execution_count": 2,
     "metadata": {},
     "output_type": "execute_result"
    }
   ],
   "source": [
    "path_to_sim = '../data/simulation.csv'\n",
    "sim_df = pd.read_csv(path_to_sim)\n",
    "\n",
    "sim_df.head(5)"
   ]
  },
  {
   "cell_type": "code",
   "execution_count": 3,
   "metadata": {},
   "outputs": [
    {
     "data": {
      "text/html": [
       "<div>\n",
       "<style scoped>\n",
       "    .dataframe tbody tr th:only-of-type {\n",
       "        vertical-align: middle;\n",
       "    }\n",
       "\n",
       "    .dataframe tbody tr th {\n",
       "        vertical-align: top;\n",
       "    }\n",
       "\n",
       "    .dataframe thead th {\n",
       "        text-align: right;\n",
       "    }\n",
       "</style>\n",
       "<table border=\"1\" class=\"dataframe\">\n",
       "  <thead>\n",
       "    <tr style=\"text-align: right;\">\n",
       "      <th></th>\n",
       "      <th>Boid_i</th>\n",
       "      <th>Boid_j</th>\n",
       "      <th>Timestep</th>\n",
       "      <th>Simulation</th>\n",
       "    </tr>\n",
       "  </thead>\n",
       "  <tbody>\n",
       "    <tr>\n",
       "      <th>0</th>\n",
       "      <td>0</td>\n",
       "      <td>39</td>\n",
       "      <td>0</td>\n",
       "      <td>0</td>\n",
       "    </tr>\n",
       "    <tr>\n",
       "      <th>1</th>\n",
       "      <td>0</td>\n",
       "      <td>57</td>\n",
       "      <td>0</td>\n",
       "      <td>0</td>\n",
       "    </tr>\n",
       "    <tr>\n",
       "      <th>2</th>\n",
       "      <td>1</td>\n",
       "      <td>32</td>\n",
       "      <td>0</td>\n",
       "      <td>0</td>\n",
       "    </tr>\n",
       "    <tr>\n",
       "      <th>3</th>\n",
       "      <td>1</td>\n",
       "      <td>34</td>\n",
       "      <td>0</td>\n",
       "      <td>0</td>\n",
       "    </tr>\n",
       "    <tr>\n",
       "      <th>4</th>\n",
       "      <td>1</td>\n",
       "      <td>83</td>\n",
       "      <td>0</td>\n",
       "      <td>0</td>\n",
       "    </tr>\n",
       "  </tbody>\n",
       "</table>\n",
       "</div>"
      ],
      "text/plain": [
       "   Boid_i  Boid_j  Timestep  Simulation\n",
       "0       0      39         0           0\n",
       "1       0      57         0           0\n",
       "2       1      32         0           0\n",
       "3       1      34         0           0\n",
       "4       1      83         0           0"
      ]
     },
     "execution_count": 3,
     "metadata": {},
     "output_type": "execute_result"
    }
   ],
   "source": [
    "path_to_sim_edges = '../data/simulation_edges.csv'\n",
    "sim_edges_df = pd.read_csv(path_to_sim_edges)\n",
    "\n",
    "sim_edges_df.head(5)"
   ]
  },
  {
   "cell_type": "markdown",
   "metadata": {},
   "source": [
    "### EDA Of Dataset"
   ]
  },
  {
   "cell_type": "code",
   "execution_count": null,
   "metadata": {},
   "outputs": [],
   "source": [
    "# TODO"
   ]
  },
  {
   "cell_type": "markdown",
   "metadata": {},
   "source": [
    "### Converting DataFrame To Data Object From Pytorch Geometric"
   ]
  },
  {
   "cell_type": "code",
   "execution_count": 17,
   "metadata": {},
   "outputs": [],
   "source": [
    "def toDataGraph(sim_df, sim_edges_df, node_features_names):\n",
    "    \"\"\"\n",
    "    Converts simulation data into a PyTorch Geometric Data object.\n",
    "\n",
    "    Parameters:\n",
    "    - sim_df (DataFrame): DataFrame containing node features for a specific simulation and timestep.\n",
    "    - sim_edges_df (DataFrame): DataFrame containing edge information for the simulation.\n",
    "    - node_features_names (list of str): Names of the columns in sim_df that are node features.\n",
    "\n",
    "    Returns:\n",
    "    - Data: A PyTorch Geometric Data object representing the graph for the simulation.\n",
    "    \"\"\"\n",
    "    # Convert node features and edge information into tensors\n",
    "    node_features = torch.tensor(sim_df[node_features_names].to_numpy(), dtype=torch.float)\n",
    "    edge_index = torch.tensor(sim_edges_df[['Boid_i', 'Boid_j']].to_numpy().T, dtype=torch.long)\n",
    "    edge_attributes = torch.tensor(np.ones((sim_edges_df.shape[0], 1)), dtype=torch.float)\n",
    "\n",
    "    # Create and return the Data object\n",
    "    graph = Data(x=node_features, edge_index=edge_index, edge_attr=edge_attributes)\n",
    "    return graph\n",
    "\n",
    "def allDataGraph(sim_df, sim_edges_df):\n",
    "    \"\"\"\n",
    "    Generates a list of PyTorch Geometric Data objects for each simulation and timestep.\n",
    "\n",
    "    Parameters:\n",
    "    - sim_df (DataFrame): DataFrame containing node features for all simulations and timesteps.\n",
    "    - sim_edges_df (DataFrame): DataFrame containing edge information for all simulations and timesteps.\n",
    "\n",
    "    Returns:\n",
    "    - list of Data: A list of PyTorch Geometric Data objects, one for each simulation and timestep.\n",
    "    \"\"\"\n",
    "    # Group the data by simulation and timestep\n",
    "    sim_gb_df = sim_df.groupby(['Timestep', 'Simulation'])\n",
    "    sim_edges_gb_df = sim_edges_df.groupby(['Timestep', 'Simulation'])\n",
    "\n",
    "    graphs = []\n",
    "    # Iterate over each group and convert to a Data object\n",
    "    for key, _ in sim_gb_df:\n",
    "        curr_sim_df = sim_gb_df.get_group(key)\n",
    "        curr_sim_edges_df = sim_edges_gb_df.get_group(key)\n",
    "        curr_graph = toDataGraph(curr_sim_df, curr_sim_edges_df, ['x', 'y', 'dx', 'dy'])\n",
    "        graphs.append(curr_graph)\n",
    "\n",
    "    return graphs\n",
    "\n",
    "# Example usage\n",
    "graphs = allDataGraph(sim_df, sim_edges_df)"
   ]
  },
  {
   "cell_type": "code",
   "execution_count": 11,
   "metadata": {},
   "outputs": [],
   "source": [
    "## TODO: NEXT STEP MAKES CLASS THAT GIVEN THE SIMULATION DATAFRAME AND SIMULATION EDGES DATAFRAME CREATES A DATASET OBJECT\n",
    "\n",
    "class CustomDataset(Dataset):\n",
    "    def __init__(self, sim_df, sim_edges_df):\n",
    "        super(CustomDataset).__init__()\n",
    "        self.all_graphs = allDataGraph(sim_df, sim_edges_df)\n",
    "        self.sequences = [graphs[i-5:i-1] for i in range(5, len(self.all_graphs)+1)]\n",
    "        self.labels = [graphs[i-1] for i in range(5, len(self.all_graphs)+1)]\n",
    "        self.len = len(self.labels)\n",
    "    def __getitem__(self, index):\n",
    "        return self.sequences[index], self.labels[index]\n",
    "    def __len__(self):\n",
    "        return self.len\n",
    "\n",
    "dataset = CustomDataset(sim_df, sim_edges_df)"
   ]
  },
  {
   "cell_type": "code",
   "execution_count": null,
   "metadata": {},
   "outputs": [],
   "source": []
  }
 ],
 "metadata": {
  "kernelspec": {
   "display_name": "aiml2",
   "language": "python",
   "name": "python3"
  },
  "language_info": {
   "codemirror_mode": {
    "name": "ipython",
    "version": 3
   },
   "file_extension": ".py",
   "mimetype": "text/x-python",
   "name": "python",
   "nbconvert_exporter": "python",
   "pygments_lexer": "ipython3",
   "version": "3.11.9"
  }
 },
 "nbformat": 4,
 "nbformat_minor": 2
}
